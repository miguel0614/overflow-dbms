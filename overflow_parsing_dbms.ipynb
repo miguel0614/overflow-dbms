{
 "cells": [
  {
   "cell_type": "code",
   "execution_count": 1,
   "metadata": {},
   "outputs": [],
   "source": [
    "import psycopg2 as pg\n",
    "import pandas as pd\n",
    "from bs4 import BeautifulSoup"
   ]
  },
  {
   "cell_type": "code",
   "execution_count": 74,
   "metadata": {},
   "outputs": [],
   "source": [
    "def db_select(query):\n",
    "    conn = None\n",
    "    cur = None\n",
    "    results = []\n",
    "    try:\n",
    "        conn = pg.connect(\"dbname=postgres user=postgres password=postgres\")\n",
    "        cur = conn.cursor()\n",
    "        cur.execute(query)\n",
    "        results = cur.fetchall()\n",
    "    except (Exception, psycopg2.DatabaseError) as error:\n",
    "        print(error)\n",
    "    finally:\n",
    "        if conn is not None:\n",
    "            conn.close()\n",
    "        if cur is not None:\n",
    "            cur.close()\n",
    "        return results"
   ]
  },
  {
   "cell_type": "code",
   "execution_count": 32,
   "metadata": {},
   "outputs": [],
   "source": [
    "def db_write(query):\n",
    "    conn = None\n",
    "    cur = None\n",
    "    results = []\n",
    "    try:\n",
    "        conn = pg.connect(\"dbname=postgres user=postgres password=postgres\")\n",
    "        cur = conn.cursor()\n",
    "        cur.execute(query)\n",
    "        conn.commit()\n",
    "        results = cur.fetchone()\n",
    "        conn.commit()\n",
    "    except (Exception, psycopg2.DatabaseError) as error:\n",
    "        print(error)\n",
    "    finally:\n",
    "        if conn is not None:\n",
    "            conn.close()\n",
    "        if cur is not None:\n",
    "            cur.close()\n",
    "        return results"
   ]
  },
  {
   "cell_type": "code",
   "execution_count": 14,
   "metadata": {},
   "outputs": [
    {
     "name": "stdout",
     "output_type": "stream",
     "text": [
      "C:\\Users\\Miguel\\Desktop\\mathoverflow.net\\Badges.xml\n",
      "C:\\Users\\Miguel\\Desktop\\mathoverflow.net\\Comments.xml\n",
      "C:\\Users\\Miguel\\Desktop\\mathoverflow.net\\PostHistory.xml\n",
      "C:\\Users\\Miguel\\Desktop\\mathoverflow.net\\PostLinks.xml\n",
      "C:\\Users\\Miguel\\Desktop\\mathoverflow.net\\Posts.xml\n",
      "C:\\Users\\Miguel\\Desktop\\mathoverflow.net\\Tags.xml\n",
      "C:\\Users\\Miguel\\Desktop\\mathoverflow.net\\Users.xml\n",
      "C:\\Users\\Miguel\\Desktop\\mathoverflow.net\\Votes.xml\n"
     ]
    }
   ],
   "source": [
    "filenames = ['Badges', 'Comments', 'PostHistory', 'PostLinks', 'Posts', 'Tags', 'Users', 'Votes']\n",
    "data = {}\n",
    "for name in filenames:\n",
    "    with open(fr'C:\\Users\\Miguel\\Desktop\\mathoverflow.net\\{name}.xml', encoding=\"utf8\") as f:\n",
    "        soup = BeautifulSoup(f.read(), 'lxml')\n",
    "        data[name] = soup.find_all('row')"
   ]
  }
 ],
 "metadata": {
  "kernelspec": {
   "display_name": "Python 3",
   "language": "python",
   "name": "python3"
  },
  "language_info": {
   "codemirror_mode": {
    "name": "ipython",
    "version": 3
   },
   "file_extension": ".py",
   "mimetype": "text/x-python",
   "name": "python",
   "nbconvert_exporter": "python",
   "pygments_lexer": "ipython3",
   "version": "3.8.2"
  }
 },
 "nbformat": 4,
 "nbformat_minor": 5
}
