{
 "cells": [
  {
   "cell_type": "code",
   "execution_count": 1,
   "metadata": {},
   "outputs": [],
   "source": [
    "import pandas as pd\n",
    "from bs4 import BeautifulSoup"
   ]
  },
  {
   "cell_type": "code",
   "execution_count": 2,
   "metadata": {},
   "outputs": [],
   "source": [
    "filenames = ['Badges', 'Comments', 'PostHistory', 'PostLinks', 'Posts', 'Tags', 'Users', 'Votes']\n",
    "data = {}\n",
    "for name in filenames:\n",
    "    with open(f'./data/{name}.xml', encoding=\"utf8\") as f:\n",
    "        soup = BeautifulSoup(f.read(), 'lxml-xml')\n",
    "        data[name] = soup.find_all('row')"
   ]
  },
  {
   "cell_type": "code",
   "execution_count": 3,
   "metadata": {},
   "outputs": [],
   "source": [
    "badges_df = pd.DataFrame([[d['Id'], d['UserId'], d['Class'], d['Name'], d['TagBased'], d['Date']] for d in data['Badges']])\n",
    "badges_df.to_csv(\"C:/temp/badges.csv\", sep = \",\", index=False, header=None) # Convert to CSV"
   ]
  },
  {
   "cell_type": "code",
   "execution_count": 4,
   "metadata": {},
   "outputs": [],
   "source": [
    "comments_df = pd.DataFrame([[d['Id'], d['PostId'], d.get('UserId', pd.NA), d.get('Score', 0),\n",
    "                             d['ContentLicense'], d.get('Text', pd.NA), d['CreationDate']] for d in data['Comments']])\n",
    "comments_df.to_csv(\"C:/temp/comments.csv\", sep = \",\", index=False, header=None) # Convert to CSV"
   ]
  },
  {
   "cell_type": "code",
   "execution_count": 5,
   "metadata": {},
   "outputs": [],
   "source": [
    "history_df = pd.DataFrame([[d['Id'], d['PostId'], d.get('UserId', pd.NA), \n",
    "                            d['PostHistoryTypeId'], d.get('ContentLicense', pd.NA),\n",
    "                            d.get('RevisionGUID', pd.NA), d.get('Text', pd.NA),\n",
    "                            d.get('Comment', pd.NA), d['CreationDate'] ] for d in data['PostHistory']])\n",
    "history_df.to_csv(\"C:/temp/history.csv\", sep = \",\", index=False, header=None) # Convert to CSV"
   ]
  },
  {
   "cell_type": "code",
   "execution_count": 6,
   "metadata": {},
   "outputs": [],
   "source": [
    "links_df = pd.DataFrame([[d['Id'], d.get('RelatedPostId', pd.NA),\n",
    "                          d['PostId'], d['LinkTypeId'], d['CreationDate']] for d in data['PostLinks']])\n",
    "links_df.to_csv(\"C:/temp/links.csv\", sep = \",\", index=False, header=None) # Convert to CSV"
   ]
  },
  {
   "cell_type": "code",
   "execution_count": 7,
   "metadata": {},
   "outputs": [],
   "source": [
    "posts_dict = {}\n",
    "for d in data['Posts']:\n",
    "    posts_dict[int(d['Id'])] = [d['Id'], d.get('OwnerUserId',pd.NA), d.get('LastEditorUserId',pd.NA), d['PostTypeId'],\n",
    "                          d.get('AcceptedAnswerId',pd.NA), d.get('Score', 0), d.get('Parentid',pd.NA),\n",
    "                          d.get('ViewCount', 0), d.get('AnswerCount', 0), d.get('CommentCount',0),\n",
    "                          d.get('Title',pd.NA), d.get('Tags',pd.NA), d.get('ContentLicense', 'CC BY-SA 2.5'),\n",
    "                          d.get('Body',pd.NA), d.get('FavoriteCount', 0), d['CreationDate'],\n",
    "                          d.get('CommunityOwnedDate',pd.NA), d.get('ClosedDate',pd.NA), d.get('LastEditDate',pd.NA),\n",
    "                          d.get('LastActivityDate',pd.NA)]\n",
    "for post_id in range(max(posts_dict.keys())):\n",
    "    if post_id not in posts_dict:\n",
    "        posts_dict[post_id] = [str(post_id), pd.NA, pd.NA, pd.NA, pd.NA, pd.NA, pd.NA, pd.NA,\n",
    "                                             pd.NA, pd.NA, pd.NA, pd.NA, pd.NA, pd.NA, pd.NA, pd.NA,\n",
    "                                             pd.NA, pd.NA, pd.NA, pd.NA] # Pad in deleted posts for FK constraint \n",
    "posts_df = pd.DataFrame(posts_dict.values()) # Convert to DF\n",
    "posts_df.to_csv(\"C:/temp/posts.csv\", sep = \",\", index=False, header=None) # Convert to CSV"
   ]
  },
  {
   "cell_type": "code",
   "execution_count": 8,
   "metadata": {},
   "outputs": [],
   "source": [
    "tags_df = pd.DataFrame([[d['Id'], d.get('ExcerptPostId', pd.NA),\n",
    "                         d.get('WikiPostId', pd.NA), d['TagName'], d.get('Count', 0)] for d in data['Tags']])\n",
    "tags_df.to_csv(\"C:/temp/tags.csv\", sep = \",\", index=False, header=None) # Convert to CSV"
   ]
  },
  {
   "cell_type": "code",
   "execution_count": 9,
   "metadata": {},
   "outputs": [],
   "source": [
    "users_df = pd.DataFrame([[d['Id'], d.get('AccountId', pd.NA), d['Reputation'], d.get('Views', pd.NA),\n",
    "                          d.get('Downvotes', 0), d.get('Upvotes', 0), d['DisplayName'],\n",
    "                          d.get('Location', pd.NA), d.get('ProfileImageUrl', pd.NA), d.get('WebsiteUrl', pd.NA),\n",
    "                          d.get('AboutMe', pd.NA), d['CreationDate'], d['LastAccessDate']] for d in data['Users']])\n",
    "users_df.to_csv(\"C:/temp/users.csv\", sep = \",\", index=False, header=None) # Convert to CSV"
   ]
  },
  {
   "cell_type": "code",
   "execution_count": 10,
   "metadata": {},
   "outputs": [],
   "source": [
    "votes_df = pd.DataFrame([[d['Id'], d.get('UserId', pd.NA), d.get('PostId', pd.NA), d['VoteTypeId'],\n",
    "                          d.get('BountyAmount', pd.NA), d['CreationDate']] for d in data['Votes']])\n",
    "votes_df.to_csv(\"C:/temp/votes.csv\", sep = \",\", index=False, header=None) # Convert to CSV"
   ]
  }
 ],
 "metadata": {
  "kernelspec": {
   "display_name": "Python 3",
   "language": "python",
   "name": "python3"
  },
  "language_info": {
   "codemirror_mode": {
    "name": "ipython",
    "version": 3
   },
   "file_extension": ".py",
   "mimetype": "text/x-python",
   "name": "python",
   "nbconvert_exporter": "python",
   "pygments_lexer": "ipython3",
   "version": "3.8.2"
  }
 },
 "nbformat": 4,
 "nbformat_minor": 5
}
